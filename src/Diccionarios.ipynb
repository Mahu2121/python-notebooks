{
 "cells": [
  {
   "cell_type": "markdown",
   "metadata": {},
   "source": [
    "Basic Dictionary Operations\n",
    "========================================="
   ]
  },
  {
   "cell_type": "code",
   "execution_count": 12,
   "metadata": {},
   "outputs": [
    {
     "data": {
      "text/plain": [
       "{'spam': 2, 'ham': 1, 'eggs': 3}"
      ]
     },
     "execution_count": 12,
     "metadata": {},
     "output_type": "execute_result"
    }
   ],
   "source": [
    "D = {'spam':2, 'ham':1, 'eggs':3}   # Make a dictionary\n",
    "D['spam']                           # Fetch a value by key\n",
    "D                                   # Order is \"scrambled\""
   ]
  },
  {
   "cell_type": "code",
   "execution_count": 11,
   "metadata": {},
   "outputs": [
    {
     "data": {
      "text/plain": [
       "['spam', 'ham', 'brunch']"
      ]
     },
     "execution_count": 11,
     "metadata": {},
     "output_type": "execute_result"
    }
   ],
   "source": [
    "len(D)          # Number of entries in dictionary\n",
    "'ham' in D      # Key membership test alternative\n",
    "list(D.keys())  # Create a new list of D's keys\n"
   ]
  },
  {
   "cell_type": "markdown",
   "metadata": {},
   "source": [
    "Changing Dictionaries in Place\n",
    "=========="
   ]
  },
  {
   "cell_type": "code",
   "execution_count": 10,
   "metadata": {},
   "outputs": [
    {
     "data": {
      "text/plain": [
       "{'spam': 2, 'ham': 1, 'brunch': 'Bacon'}"
      ]
     },
     "execution_count": 10,
     "metadata": {},
     "output_type": "execute_result"
    }
   ],
   "source": [
    "D = {'spam':2, 'ham':1, 'eggs':3}\n",
    "del D['eggs']                       # Delete entry\n",
    "D['brunch'] = 'Bacon'               # Add new entry\n",
    "D"
   ]
  },
  {
   "cell_type": "markdown",
   "metadata": {},
   "source": [
    "More Dictionary Methods\n",
    "=============="
   ]
  },
  {
   "cell_type": "code",
   "execution_count": 9,
   "metadata": {},
   "outputs": [
    {
     "name": "stdout",
     "output_type": "stream",
     "text": [
      "[2, 1, 3]\n",
      "[('spam', 2), ('ham', 1), ('eggs', 3)]\n"
     ]
    }
   ],
   "source": [
    "D = {'spam': 2, 'ham': 1, 'eggs': 3}\n",
    "print(list(D.values()))\n",
    "print(list(D.items())) "
   ]
  },
  {
   "cell_type": "code",
   "execution_count": 8,
   "metadata": {},
   "outputs": [
    {
     "name": "stdout",
     "output_type": "stream",
     "text": [
      "2\n",
      "None\n"
     ]
    }
   ],
   "source": [
    "print(D.get('spam'))              # A key that is there\n",
    "print(D.get('toast'))             # A key that is missing"
   ]
  },
  {
   "cell_type": "markdown",
   "metadata": {},
   "source": [
    "Update"
   ]
  },
  {
   "cell_type": "code",
   "execution_count": 6,
   "metadata": {},
   "outputs": [
    {
     "data": {
      "text/plain": [
       "{'eggs': 3, 'spam': 2, 'ham': 1, 'toast': 4, 'muffin': 5}"
      ]
     },
     "execution_count": 6,
     "metadata": {},
     "output_type": "execute_result"
    }
   ],
   "source": [
    "D = {'eggs': 3, 'spam': 2, 'ham': 1}\n",
    "D2 = {'toast':4, 'muffin':5}\n",
    "D.update(D2)                      #Similar a .append en listas\n",
    "D"
   ]
  },
  {
   "cell_type": "code",
   "execution_count": 7,
   "metadata": {},
   "outputs": [
    {
     "data": {
      "text/plain": [
       "{'eggs': 3, 'spam': 2, 'ham': 1}"
      ]
     },
     "execution_count": 7,
     "metadata": {},
     "output_type": "execute_result"
    }
   ],
   "source": [
    "D = {'eggs': 3, 'spam': 2, 'ham': 1, 'toast': 4, 'muffin': 5}\n",
    "D.pop('muffin') \n",
    "# 5\n",
    "D.pop('toast')\n",
    "# 4\n",
    "D"
   ]
  },
  {
   "cell_type": "markdown",
   "metadata": {},
   "source": [
    "Dictionary Usage Notes\n",
    "============"
   ]
  },
  {
   "cell_type": "markdown",
   "metadata": {},
   "source": [
    "-Sequence operations don’t work. Dictionaries are mappings, not sequences,things like concatenation (an ordered joining) and slicing (extracting a contiguous section) simply don’t ap-ply.\n",
    "\n",
    "-Assigning to new indexes adds entries.\n",
    "\n",
    "-Keys need not always be strings. immutable objects work just as well. inte-gers  Tuples dates and IP addresses—to User-defined class instance objects the proper protocol methods; Mutable objects such as lists, sets, and other dictionaries don’t work as keys,\n",
    "but are allowed as values."
   ]
  },
  {
   "cell_type": "markdown",
   "metadata": {},
   "source": [
    "Other Ways to Make Dictionaries\n",
    "======"
   ]
  },
  {
   "cell_type": "code",
   "execution_count": 4,
   "metadata": {},
   "outputs": [
    {
     "data": {
      "text/plain": [
       "{'name': 'Bob', 'age': 40}"
      ]
     },
     "execution_count": 4,
     "metadata": {},
     "output_type": "execute_result"
    }
   ],
   "source": [
    "#{'name': 'Bob', 'age': 40} # Traditional literal expression\n",
    "#D = {} # Assign by keys dynamically\n",
    "#D['name'] = 'Bob'\n",
    "#D['age'] = 40\n",
    "\n",
    "dict(name='Bob', age=40) # dict keyword argument form\n",
    "dict([('name', 'Bob'), ('age', 40)]) # dict key/value tuples form"
   ]
  },
  {
   "cell_type": "code",
   "execution_count": null,
   "metadata": {},
   "outputs": [],
   "source": [
    "dict(zip(keyslist, valueslist)) # Zipped key/value tuples form (ahead)"
   ]
  }
 ],
 "metadata": {
  "kernelspec": {
   "display_name": "Python 3",
   "language": "python",
   "name": "python3"
  },
  "language_info": {
   "codemirror_mode": {
    "name": "ipython",
    "version": 3
   },
   "file_extension": ".py",
   "mimetype": "text/x-python",
   "name": "python",
   "nbconvert_exporter": "python",
   "pygments_lexer": "ipython3",
   "version": "3.12.3"
  }
 },
 "nbformat": 4,
 "nbformat_minor": 2
}
